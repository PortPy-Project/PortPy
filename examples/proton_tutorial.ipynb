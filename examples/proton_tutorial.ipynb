{
 "cells": [
  {
   "cell_type": "markdown",
   "id": "64069a0d",
   "metadata": {},
   "source": [
    "# <center>Proton Dose Calculation/Optimization Tutorial </center>\n",
    "\n",
    "To create data in PortPy format for patients at your institution, this process is available exclusively to Eclipse users. Please follow the procedure below to generate PortPy format data for your patients using the Eclipse system\n",
    "\n",
    "\n",
    "1. Download proton dose calculation module using Eclipse ESAPI API from Varian's github [page](https://github.com/Varian-MedicalAffairsAppliedSolutions/MAAS-DoseInfluenceMatrix/tree/main)\n",
    "\n",
    "2. Create a proton plan in eclipse and modify below parameters in Eclipse before running dose calculation.\n",
    "- Modify calculation box volume in Eclipse. Default calculation box volume is set to whole CT. Users need to reduce calculation box volume to avoid computational issues for dose calc. Usually in z direction, calculation box can be reduced to PTV &pm; 3cm \n",
    "\n",
    "![img_1.png](../images/img_1.png)\n",
    "\n",
    "- Increase dose calculation resolution in Eclipse. default is 0.25cm. Users can make it to 0.4-0.5cm to avoid computational issues for dose calc.\n",
    "![img_2.png](../images/img_2.png)\n",
    "- Change structure names in eclipse to the standard structure names used in Portpy optimization. e.g. 'PTVSmall' to 'PTV'. Users can avoid this step by manually mapping eclipse structure names to PortPy template structure names in below example \n",
    "\n",
    "\n",
    "3. Run eclipse dose calculation using the command below. It will create portpy data in the ./Results directory.\n",
    "```\n",
    "CalculateInfluenceMatrix.exe <patient mrn> <course name> <plan name>\n",
    "\n",
    "```\n"
   ]
  },
  {
   "cell_type": "markdown",
   "id": "2b6bee9e",
   "metadata": {},
   "source": [
    "##### This example demonstrates the following main functionalities of portpy.proton module:\n",
    "\n",
    "\n",
    "1. Accessing the curated portpy data\n",
    "    (DataExplorer class)\n",
    "\n",
    "2. Creating a simple IMPT plan through integration with [CVXPy](https://www.cvxpy.org/) package\n",
    "    (Plan class, Optimization class)\n",
    "\n",
    "3. Visualising the plan (e.g., dose distribution, DVH)\n",
    "   (Visualization class)\n",
    "\n",
    "4. Evaluating the plan (e.g., max/mean/DVH points, established clinical metrics)\n",
    "    (Evaluation class)\n",
    "\n",
    "5. Saving the plan and solution for future uses\n",
    "    (Utils)"
   ]
  },
  {
   "cell_type": "markdown",
   "id": "9aa0c369",
   "metadata": {},
   "source": [
    "### 1) Accessing the portpy data (DataExplorer class)\n",
    "PortPy provides researchers with a comprehensive benchmark patient dataset derived from an FDA-approved [Eclipse](https://www.varian.com/products/radiotherapy/treatment-planning/eclipse) commercial treatment planning system via its API. This dataset includes all the necessary components for optimizing various machine settings such as beam angles, aperture shapes, and leaf movements. In addition to the CT images and delineated contours, the dataset includes:\n",
    " 1. **Dose Influence Matrix:** The dose contribution of each spot to each voxel, \n",
    " 2. **Spots/Voxels Details:** Detailed information about the position and size of beamlets/voxels,\n",
    " 3. **Expert-Selected Benchmark Beams:** An expert clinical physicist has carefully selected benchmark beams, providing reference beams for comparison and benchmarking,\n",
    "\n",
    " To start using this resource, users are required to download the latest version of the dataset, which can be found [here](https://drive.google.com/drive/folders/1nA1oHEhlmh2Hk8an9e0Oi0ye6LRPREit). Then, the dataset can be accessed as demonstrated below.\n",
    "\n"
   ]
  },
  {
   "cell_type": "code",
   "execution_count": 1,
   "id": "e147a2f8",
   "metadata": {},
   "outputs": [],
   "source": [
    "import sys\n",
    "sys.path.append('..')"
   ]
  },
  {
   "cell_type": "code",
   "execution_count": 2,
   "id": "426a23ab",
   "metadata": {},
   "outputs": [],
   "source": [
    "# If you're running PortPy for the first time, you need to install the requirements \n",
    "# !pip install -r ..\\requirements.txt"
   ]
  },
  {
   "cell_type": "code",
   "execution_count": 17,
   "id": "53d38e69",
   "metadata": {
    "scrolled": true
   },
   "outputs": [],
   "source": [
    "import portpy.proton as pp\n",
    "import numpy as np\n",
    "import os"
   ]
  },
  {
   "cell_type": "code",
   "execution_count": 4,
   "id": "c2cbc0c4",
   "metadata": {},
   "outputs": [],
   "source": [
    "# specify the patient data location.\n",
    "data_dir = r'.\\MAAS-ProtonInfluenceMatrix\\Software\\results'\n",
    "# Use PortPy DataExplorer class to explore PortPy data\n",
    "data = pp.DataExplorer(data_dir=data_dir)"
   ]
  },
  {
   "cell_type": "code",
   "execution_count": 5,
   "id": "0f06dc1f",
   "metadata": {
    "scrolled": true
   },
   "outputs": [
    {
     "data": {
      "text/html": [
       "<div>\n",
       "<style scoped>\n",
       "    .dataframe tbody tr th:only-of-type {\n",
       "        vertical-align: middle;\n",
       "    }\n",
       "\n",
       "    .dataframe tbody tr th {\n",
       "        vertical-align: top;\n",
       "    }\n",
       "\n",
       "    .dataframe thead th {\n",
       "        text-align: right;\n",
       "    }\n",
       "</style>\n",
       "<table border=\"1\" class=\"dataframe\">\n",
       "  <thead>\n",
       "    <tr style=\"text-align: right;\">\n",
       "      <th></th>\n",
       "      <th>ID</th>\n",
       "      <th>gantry_angle</th>\n",
       "      <th>couch_angle</th>\n",
       "      <th>beam_modality</th>\n",
       "      <th>energy_MV</th>\n",
       "      <th>influence_matrix(sparse/full)</th>\n",
       "      <th>iso_center</th>\n",
       "      <th>machine_name</th>\n",
       "    </tr>\n",
       "  </thead>\n",
       "  <tbody>\n",
       "    <tr>\n",
       "      <th>0</th>\n",
       "      <td>Field 1</td>\n",
       "      <td>0.0</td>\n",
       "      <td>0.0</td>\n",
       "      <td>Proton</td>\n",
       "      <td>70-250P</td>\n",
       "      <td>Both</td>\n",
       "      <td>{'x_mm': -24.79999999999999, 'y_mm': 146.86999...</td>\n",
       "      <td>CAP_PROBM</td>\n",
       "    </tr>\n",
       "    <tr>\n",
       "      <th>1</th>\n",
       "      <td>Field 2</td>\n",
       "      <td>0.0</td>\n",
       "      <td>0.0</td>\n",
       "      <td>Proton</td>\n",
       "      <td>70-250P</td>\n",
       "      <td>Both</td>\n",
       "      <td>{'x_mm': -24.79999999999999, 'y_mm': 146.86999...</td>\n",
       "      <td>CAP_PROBM</td>\n",
       "    </tr>\n",
       "  </tbody>\n",
       "</table>\n",
       "</div>"
      ],
      "text/plain": [
       "        ID  gantry_angle  couch_angle beam_modality energy_MV  \\\n",
       "0  Field 1           0.0          0.0        Proton   70-250P   \n",
       "1  Field 2           0.0          0.0        Proton   70-250P   \n",
       "\n",
       "  influence_matrix(sparse/full)  \\\n",
       "0                          Both   \n",
       "1                          Both   \n",
       "\n",
       "                                          iso_center machine_name  \n",
       "0  {'x_mm': -24.79999999999999, 'y_mm': 146.86999...    CAP_PROBM  \n",
       "1  {'x_mm': -24.79999999999999, 'y_mm': 146.86999...    CAP_PROBM  "
      ]
     },
     "execution_count": 5,
     "metadata": {},
     "output_type": "execute_result"
    }
   ],
   "source": [
    "# pick a patient from the existing patient list to get detailed info (e.g., beam angles, structures).\n",
    "data.patient_id = 'ProtonTestSM1'\n",
    "# display the data of the patient \n",
    "# user can get the results back in the panda dataframe format by using the arguments 'return_beams_df' and 'return_structs_df'\n",
    "beams_df, structs_df = data.display_patient_metadata(return_beams_df=True, return_structs_df=True)\n",
    "beams_df.head()\n",
    "# the following table shows the beams for which the data has been extracted for the specified patient"
   ]
  },
  {
   "cell_type": "code",
   "execution_count": 6,
   "id": "0a2ce160",
   "metadata": {},
   "outputs": [
    {
     "data": {
      "text/html": [
       "<div>\n",
       "<style scoped>\n",
       "    .dataframe tbody tr th:only-of-type {\n",
       "        vertical-align: middle;\n",
       "    }\n",
       "\n",
       "    .dataframe tbody tr th {\n",
       "        vertical-align: top;\n",
       "    }\n",
       "\n",
       "    .dataframe thead th {\n",
       "        text-align: right;\n",
       "    }\n",
       "</style>\n",
       "<table border=\"1\" class=\"dataframe\">\n",
       "  <thead>\n",
       "    <tr style=\"text-align: right;\">\n",
       "      <th></th>\n",
       "      <th>name</th>\n",
       "      <th>volume_cc</th>\n",
       "    </tr>\n",
       "  </thead>\n",
       "  <tbody>\n",
       "    <tr>\n",
       "      <th>0</th>\n",
       "      <td>PTVSmall</td>\n",
       "      <td>50.387333</td>\n",
       "    </tr>\n",
       "    <tr>\n",
       "      <th>1</th>\n",
       "      <td>E_EPTVs_PTVs</td>\n",
       "      <td>58318.665830</td>\n",
       "    </tr>\n",
       "    <tr>\n",
       "      <th>2</th>\n",
       "      <td>E_ExtPTVs</td>\n",
       "      <td>59001.701400</td>\n",
       "    </tr>\n",
       "    <tr>\n",
       "      <th>3</th>\n",
       "      <td>E_AllPTVs</td>\n",
       "      <td>686.828336</td>\n",
       "    </tr>\n",
       "    <tr>\n",
       "      <th>4</th>\n",
       "      <td>E_rind4pnt</td>\n",
       "      <td>2250.662310</td>\n",
       "    </tr>\n",
       "  </tbody>\n",
       "</table>\n",
       "</div>"
      ],
      "text/plain": [
       "           name     volume_cc\n",
       "0      PTVSmall     50.387333\n",
       "1  E_EPTVs_PTVs  58318.665830\n",
       "2     E_ExtPTVs  59001.701400\n",
       "3     E_AllPTVs    686.828336\n",
       "4    E_rind4pnt   2250.662310"
      ]
     },
     "execution_count": 6,
     "metadata": {},
     "output_type": "execute_result"
    }
   ],
   "source": [
    "structs_df.head()\n",
    "# the following table shows the list of structures for the specified patient"
   ]
  },
  {
   "cell_type": "code",
   "execution_count": 7,
   "id": "c0132331",
   "metadata": {
    "scrolled": true
   },
   "outputs": [],
   "source": [
    "# If the list of beams are not provided, it uses the beams selected manually\n",
    "# by a human expert planner for the patient (manually selected beams are stored in portpy data).\n",
    "# Create beams for the planner beams by default\n",
    "# for the customized beams, you can pass the argument beam_ids\n",
    "# e.g. beams = pp.Beams(data, beam_ids=[0,10,20,30,40,50,60])\n",
    "beams = pp.Beams(data)"
   ]
  },
  {
   "cell_type": "code",
   "execution_count": 8,
   "id": "c8d5ff12",
   "metadata": {},
   "outputs": [],
   "source": [
    "# load structures from the data\n",
    "structs = pp.Structures(data)"
   ]
  },
  {
   "cell_type": "code",
   "execution_count": 9,
   "id": "db8c2363",
   "metadata": {},
   "outputs": [],
   "source": [
    "# # create a dictionary called map structures which map dicom structure name to standard structure name used in PortPy clinical criteria.\n",
    "# Eg. 'PTVSmall' in dicom is mapped to 'PTV' structure used in PortPy template\n",
    "# User needs to change it based on their patient specific structure names\n",
    "map_structures = {'PTVSmall': 'PTV',\n",
    "                  'EL_Skin': 'SKIN',\n",
    "                  'Liver': ' LIVER',\n",
    "                  'Stomach38': 'STOMACH',\n",
    "                  'Lungs_NOT_GTV38': 'LUNGS_NOT_GTV',\n",
    "                  'Lung_R38': 'LUNG_R',\n",
    "                  'Lung_L38': 'LUNG_L',\n",
    "                  'ITV38': 'ITV',\n",
    "                  'Heart38': 'HEART',\n",
    "                  'GTV38': 'GTV',\n",
    "                  'Esophagus38': 'ESOPHAGUS',\n",
    "                  'CTV38': 'CTV',\n",
    "                  'Cord38': 'CORD',\n",
    "                  'Patient Surfac38': 'BODY'}\n",
    "dicom_structure_names = map_structures.keys()\n",
    "for ind, s in enumerate(structs.get_structures()):\n",
    "    if s in dicom_structure_names:\n",
    "        structs.structures_dict['name'][ind] = map_structures[s]"
   ]
  },
  {
   "cell_type": "markdown",
   "id": "89a6413e",
   "metadata": {},
   "source": [
    " #### Clinical Protocols\n",
    "In order to create an IMRT plan, we first need to specify a protocol which includes the disease site, the prescribed dose for the PTV, the number of fractions, and the radiation dose thresholds for OARs. These information are stored in .json files which can be found in a directory named \"config_files\". An example of such a file is 'Lung_2Gy_30Fx.json'. Here's how you can load these files:\n",
    " "
   ]
  },
  {
   "cell_type": "code",
   "execution_count": 10,
   "id": "c1a1fc49",
   "metadata": {},
   "outputs": [],
   "source": [
    "protocol_name = 'Lung_2Gy_30Fx'\n",
    "clinical_criteria = pp.ClinicalCriteria(data, protocol_name=protocol_name)"
   ]
  },
  {
   "cell_type": "markdown",
   "id": "4cf797c5",
   "metadata": {},
   "source": [
    "#### Optimization Problem Formulation\n",
    "The next step is to fromulate an optimization problem with an objective function measuring various plan quality metrics, along with a set of non-negotiable constraints often encapsulated as max/mean/Dose-Volume Histogram (DVH) constraints outlined in the clinical protocol. Our default problem formulation is as follows:\n",
    "\n",
    "$\n",
    "   \\mbox{Minimize} \\quad  w_o||A^{PTV}\\mathbf{x}-pres||^2_{+} + w_u||A^{PTV}\\mathbf{x}-pres||^2_{-} + \\sum_{s\\in OARs}w_{s}  ||A^s \\mathbf{x}||^2  \n",
    "$\n",
    "\n",
    "$\n",
    "\\mbox{subject to}\n",
    "$\n",
    "\n",
    "$\n",
    "\\quad maximum(A_s\\mathbf{x}) \\leq {d_s}^{max}\n",
    "$\n",
    "\n",
    "$\n",
    "\\quad mean(A_s\\mathbf{x}) \\leq {d_s}^{mean}\n",
    "$\n",
    "\n",
    "$\n",
    "\\quad \\mathbf{x} \\geq 0\n",
    "$\n",
    "\n",
    "Here, $\\mathbf{A}$ represents the dose influence matrix, parameterizing the dose delivered to each voxel from each beamlet. $\\mathbf{x}$ refers to the optimal beamlet intensities (also known as beam profiles or fluence map), while $pres$ stands for the prescribed dose to the PTV. The operators $||.||_{+}$ and $||.||_{-}$ represent the positive and negative parts of the input vector respectively. \n",
    "The first term in the optimization problem penalizes the *PTV-overdose*, the deviation of the dose delivered to PTV ($A^{PTV}\\mathbf{x}$) from the prescribed dose, and the second term penalizes *PTV-underdose*. The third term seeks to minimize the OAR doses.\n",
    "\n",
    "The above optimization problem, however, does not account for radiation dose delivered to healthy tissues that aren't part of any delineated structure. This is often resolved by creating a series of artificial 'donut-shaped' structures, or 'Rinds' (also known as 'Shells' or 'Rings') around the PTV. These are considered optimization structures and treated as OARs within the optimization problem.\n",
    "\n",
    "\n",
    "Considering the multi-criteria nature of radiation treatment planning and the balancing act between PTV coverage and OAR sparing, the objective function in the optimization problem includes several hyperparameters (i.e., $w_o$, $w_u$, $w_s$) that require fine-tuning per patient. Another set of hyperparameters relates to optimization structures (e.g., Rind structure sizes and constraints). Based on our experiments, it's feasible to create a reasonable plan for many patients following a specific clinical protocol using a fixed set of hyperparameters. While such a plan may not be clinically optimal, it is often sufficient for many research purposes. As such, we've stored a set of hyperparameters for each clinical protocol in .json files located in the 'config_files' directory (e.g., 'optimization_params_Lung_2Gy_30Fx.json'). \n",
    "\n",
    "\n",
    "##### Note:  \n",
    "Overcoming the challenge of hyperparameter tuning has been an active research focus for several years, with many advanced techniques being developed. AI-based planning, in particular, has been gaining considerable traction recently (Example-10 illustrates how to predict 3D dose and convert it to a deliverable plan). In our group, we have developed and clinically implemented an automated planning system called [ECHO](https://youtu.be/895M6j5KjPs), which leverages hierarchical optimization (also known as prioritized optimization). We plan to release the code for this in the near future. "
   ]
  },
  {
   "cell_type": "code",
   "execution_count": 12,
   "id": "32687766",
   "metadata": {},
   "outputs": [
    {
     "name": "stdout",
     "output_type": "stream",
     "text": [
      "Creating optimization structures.. It may take some time due to dilation\n",
      "Optimization structures created!!\n",
      "Creating BEV..\n",
      "Loading sparse influence matrix...\n",
      "Done\n"
     ]
    }
   ],
   "source": [
    "protocol_name = 'Lung_2Gy_30Fx'\n",
    "# Loading hyper-parameter values for optimization problem\n",
    "opt_params = data.load_config_opt_params(protocol_name=protocol_name)\n",
    "# Creating optimization structures (i.e., Rinds) \n",
    "structs.create_opt_structures(opt_params=opt_params, clinical_criteria=clinical_criteria)\n",
    "# Loading influence matrix\n",
    "inf_matrix = pp.InfluenceMatrix(structs=structs, beams=beams, is_bev=True)"
   ]
  },
  {
   "cell_type": "markdown",
   "id": "ccfde9ea",
   "metadata": {},
   "source": [
    "#### Truncated influence matrix\n",
    "The dose influence matrix plays a pivotal role in the optimization process, but it can also pose significant computational challenges when solving optimization problems. The original matrix is dense and handling it can be computationally demanding. For this reason, we opt to load a truncated version of the matrix by default. However, this truncation introduces discrepancies between the optimized dose and the final dose. Please refer to the PortPy tutorial on [imrt_tps_import](https://github.com/PortPy-Project/PortPy/blob/master/examples/imrt_tps_import.ipynb) for guidance on how to address this issue for photon version. \n"
   ]
  },
  {
   "cell_type": "markdown",
   "id": "f509a60d",
   "metadata": {},
   "source": [
    "### 2) Creating a simple IMPT plan using CVXPy (Plan class, Optimization class)\n",
    "We use [CVXPy](https://www.cvxpy.org/), a Python-embedded modeling language, to solve the resulting optimization problems. CVXPy offers a high-level programming interface for easy prototyping and seamless access to several open-source (e.g., ECOS, OSQP, SCS) and commercial optimization engines (e.g., MOSEK, GUROBI, CPLEX). Most commercial engines offer free licenses for research and academic purposes, however, it is up to users to secure these licenses.\n",
    "\n",
    "In our experiments, we found the commercial solver MOSEK to be highly efficient in solving the IMRT optimization problems. You can obtain the MOSEK license file by applying using an .edu account [here](https://www.mosek.com/products/academic-licenses/). The license file should be placed in the directory C:\\Users\\username\\mosek. If a license is not available, you may try open-source or free solvers like SCS or ECOS. Please refer to the CVXPy documentation for more information about its various solvers.\n"
   ]
  },
  {
   "cell_type": "code",
   "execution_count": 14,
   "id": "8af8e657",
   "metadata": {},
   "outputs": [
    {
     "name": "stdout",
     "output_type": "stream",
     "text": [
      "Objective Start\n",
      "Objective done\n",
      "Constraints Start\n",
      "Constraints done\n",
      "Running Optimization..\n",
      "Optimal value: 853.1974029174821\n",
      "Elapsed time: 358.1429193019867 seconds\n"
     ]
    }
   ],
   "source": [
    "# create a plan using ct, structures, beams and influence matrix, and clinical criteria\n",
    "my_plan = pp.Plan(structs = structs, beams = beams, inf_matrix = inf_matrix, clinical_criteria=clinical_criteria)\n",
    "\n",
    "# create cvxpy problem using the clinical criteria and optimization parameters\n",
    "opt = pp.Optimization(my_plan, opt_params=opt_params, clinical_criteria=clinical_criteria)\n",
    "opt.create_cvxpy_problem()\n",
    "# solve the cvxpy problem using Mosek\n",
    "sol = opt.solve(solver='MOSEK', verbose=False)"
   ]
  },
  {
   "cell_type": "markdown",
   "id": "ce10bb86",
   "metadata": {},
   "source": [
    "### 3) Visualizing the plan (Visualization class)"
   ]
  },
  {
   "cell_type": "code",
   "execution_count": 15,
   "id": "c6d82def",
   "metadata": {},
   "outputs": [
    {
     "data": {
      "text/plain": [
       "<Axes: title={'center': 'ProtonTestSM1'}, xlabel='Dose (Gy)', ylabel='Volume Fraction ($\\\\%$)'>"
      ]
     },
     "execution_count": 15,
     "metadata": {},
     "output_type": "execute_result"
    },
    {
     "data": {
      "image/png": "[encoded data removed]",
      "text/plain": [
       "<Figure size 864x576 with 1 Axes>"
      ]
     },
     "metadata": {
      "needs_background": "light"
     },
     "output_type": "display_data"
    }
   ],
   "source": [
    "# plot dvh for the structures in the given list. Default dose_1d is in Gy and volume is in relative scale(%).\n",
    "struct_names = ['PTV', 'ESOPHAGUS', 'HEART', 'CORD']\n",
    "\n",
    "# plot dvh for the above structures\n",
    "pp.Visualization.plot_dvh(my_plan, sol=sol, struct_names=struct_names, title=data.patient_id)\n"
   ]
  },
  {
   "cell_type": "markdown",
   "id": "a213c9a6",
   "metadata": {},
   "source": [
    "### 4) Evaluating the plan (Evaluation class)\n",
    "The Evaluation class offers a set of methods for quantifying the optimized plan. If you need to compute individual dose volume metrics, you can use methods such as *get_dose* or *get_volume*. Furthermore, the class also facilitates the assessment of the plan based on a collection of metrics, such as mean, max, and dose-volume histogram (DVH), as specified in the clinical protocol. This capability is demonstrated below\n"
   ]
  },
  {
   "cell_type": "code",
   "execution_count": 16,
   "id": "cae565be",
   "metadata": {},
   "outputs": [
    {
     "name": "stdout",
     "output_type": "stream",
     "text": [
      "Warning: dose_1d value 60.0 is greater than max dose_1d for ESOPHAGUS\n"
     ]
    },
    {
     "data": {
      "text/html": [
       "<style type=\"text/css\">\n",
       "#T_d22a4_row0_col0, #T_d22a4_row0_col1, #T_d22a4_row0_col2, #T_d22a4_row0_col3, #T_d22a4_row1_col0, #T_d22a4_row1_col1, #T_d22a4_row1_col2, #T_d22a4_row1_col3, #T_d22a4_row2_col0, #T_d22a4_row2_col1, #T_d22a4_row2_col2, #T_d22a4_row2_col3, #T_d22a4_row3_col0, #T_d22a4_row3_col1, #T_d22a4_row3_col2, #T_d22a4_row3_col3, #T_d22a4_row4_col0, #T_d22a4_row4_col1, #T_d22a4_row4_col2, #T_d22a4_row4_col3, #T_d22a4_row5_col0, #T_d22a4_row5_col1, #T_d22a4_row5_col2, #T_d22a4_row5_col3, #T_d22a4_row6_col0, #T_d22a4_row6_col1, #T_d22a4_row6_col2, #T_d22a4_row6_col3, #T_d22a4_row7_col0, #T_d22a4_row7_col1, #T_d22a4_row7_col2, #T_d22a4_row7_col3, #T_d22a4_row8_col0, #T_d22a4_row8_col1, #T_d22a4_row8_col2, #T_d22a4_row8_col3, #T_d22a4_row9_col0, #T_d22a4_row9_col1, #T_d22a4_row9_col2, #T_d22a4_row9_col3, #T_d22a4_row10_col0, #T_d22a4_row10_col1, #T_d22a4_row10_col2, #T_d22a4_row10_col3, #T_d22a4_row11_col0, #T_d22a4_row11_col1, #T_d22a4_row11_col2, #T_d22a4_row11_col3, #T_d22a4_row12_col0, #T_d22a4_row12_col1, #T_d22a4_row12_col2, #T_d22a4_row12_col3, #T_d22a4_row13_col0, #T_d22a4_row13_col1, #T_d22a4_row13_col2, #T_d22a4_row13_col3, #T_d22a4_row14_col0, #T_d22a4_row14_col1, #T_d22a4_row14_col2, #T_d22a4_row14_col3, #T_d22a4_row15_col0, #T_d22a4_row15_col1, #T_d22a4_row15_col2, #T_d22a4_row15_col3 {\n",
       "  text-align: center;\n",
       "}\n",
       "#T_d22a4_row0_col4, #T_d22a4_row1_col4 {\n",
       "  background-color: #ffb38a;\n",
       "  text-align: center;\n",
       "}\n",
       "#T_d22a4_row2_col4, #T_d22a4_row3_col4, #T_d22a4_row4_col4, #T_d22a4_row5_col4, #T_d22a4_row6_col4, #T_d22a4_row7_col4, #T_d22a4_row8_col4, #T_d22a4_row9_col4, #T_d22a4_row10_col4, #T_d22a4_row11_col4, #T_d22a4_row12_col4, #T_d22a4_row13_col4, #T_d22a4_row14_col4, #T_d22a4_row15_col4 {\n",
       "  background-color: #90ee90;\n",
       "  text-align: center;\n",
       "}\n",
       "</style>\n",
       "<table id=\"T_d22a4\">\n",
       "  <thead>\n",
       "    <tr>\n",
       "      <th class=\"blank level0\" >&nbsp;</th>\n",
       "      <th id=\"T_d22a4_level0_col0\" class=\"col_heading level0 col0\" >constraint</th>\n",
       "      <th id=\"T_d22a4_level0_col1\" class=\"col_heading level0 col1\" >structure_name</th>\n",
       "      <th id=\"T_d22a4_level0_col2\" class=\"col_heading level0 col2\" >Limit</th>\n",
       "      <th id=\"T_d22a4_level0_col3\" class=\"col_heading level0 col3\" >Goal</th>\n",
       "      <th id=\"T_d22a4_level0_col4\" class=\"col_heading level0 col4\" >Plan Value</th>\n",
       "    </tr>\n",
       "  </thead>\n",
       "  <tbody>\n",
       "    <tr>\n",
       "      <th id=\"T_d22a4_level0_row0\" class=\"row_heading level0 row0\" >0</th>\n",
       "      <td id=\"T_d22a4_row0_col0\" class=\"data row0 col0\" >max_dose</td>\n",
       "      <td id=\"T_d22a4_row0_col1\" class=\"data row0 col1\" >GTV</td>\n",
       "      <td id=\"T_d22a4_row0_col2\" class=\"data row0 col2\" >69.0Gy</td>\n",
       "      <td id=\"T_d22a4_row0_col3\" class=\"data row0 col3\" >66.0Gy</td>\n",
       "      <td id=\"T_d22a4_row0_col4\" class=\"data row0 col4\" >66.74</td>\n",
       "    </tr>\n",
       "    <tr>\n",
       "      <th id=\"T_d22a4_level0_row1\" class=\"row_heading level0 row1\" >1</th>\n",
       "      <td id=\"T_d22a4_row1_col0\" class=\"data row1 col0\" >max_dose</td>\n",
       "      <td id=\"T_d22a4_row1_col1\" class=\"data row1 col1\" >PTV</td>\n",
       "      <td id=\"T_d22a4_row1_col2\" class=\"data row1 col2\" >69.0Gy</td>\n",
       "      <td id=\"T_d22a4_row1_col3\" class=\"data row1 col3\" >66.0Gy</td>\n",
       "      <td id=\"T_d22a4_row1_col4\" class=\"data row1 col4\" >66.74</td>\n",
       "    </tr>\n",
       "    <tr>\n",
       "      <th id=\"T_d22a4_level0_row2\" class=\"row_heading level0 row2\" >2</th>\n",
       "      <td id=\"T_d22a4_row2_col0\" class=\"data row2 col0\" >max_dose</td>\n",
       "      <td id=\"T_d22a4_row2_col1\" class=\"data row2 col1\" >ESOPHAGUS</td>\n",
       "      <td id=\"T_d22a4_row2_col2\" class=\"data row2 col2\" >66.0Gy</td>\n",
       "      <td id=\"T_d22a4_row2_col3\" class=\"data row2 col3\" ></td>\n",
       "      <td id=\"T_d22a4_row2_col4\" class=\"data row2 col4\" >56.95</td>\n",
       "    </tr>\n",
       "    <tr>\n",
       "      <th id=\"T_d22a4_level0_row3\" class=\"row_heading level0 row3\" >3</th>\n",
       "      <td id=\"T_d22a4_row3_col0\" class=\"data row3 col0\" >mean_dose</td>\n",
       "      <td id=\"T_d22a4_row3_col1\" class=\"data row3 col1\" >ESOPHAGUS</td>\n",
       "      <td id=\"T_d22a4_row3_col2\" class=\"data row3 col2\" >34.0Gy</td>\n",
       "      <td id=\"T_d22a4_row3_col3\" class=\"data row3 col3\" >21.0Gy</td>\n",
       "      <td id=\"T_d22a4_row3_col4\" class=\"data row3 col4\" >3.56</td>\n",
       "    </tr>\n",
       "    <tr>\n",
       "      <th id=\"T_d22a4_level0_row4\" class=\"row_heading level0 row4\" >4</th>\n",
       "      <td id=\"T_d22a4_row4_col0\" class=\"data row4 col0\" >V(60.0Gy)</td>\n",
       "      <td id=\"T_d22a4_row4_col1\" class=\"data row4 col1\" >ESOPHAGUS</td>\n",
       "      <td id=\"T_d22a4_row4_col2\" class=\"data row4 col2\" >17.0%</td>\n",
       "      <td id=\"T_d22a4_row4_col3\" class=\"data row4 col3\" ></td>\n",
       "      <td id=\"T_d22a4_row4_col4\" class=\"data row4 col4\" >0.00</td>\n",
       "    </tr>\n",
       "    <tr>\n",
       "      <th id=\"T_d22a4_level0_row5\" class=\"row_heading level0 row5\" >5</th>\n",
       "      <td id=\"T_d22a4_row5_col0\" class=\"data row5 col0\" >max_dose</td>\n",
       "      <td id=\"T_d22a4_row5_col1\" class=\"data row5 col1\" >HEART</td>\n",
       "      <td id=\"T_d22a4_row5_col2\" class=\"data row5 col2\" >66.0Gy</td>\n",
       "      <td id=\"T_d22a4_row5_col3\" class=\"data row5 col3\" ></td>\n",
       "      <td id=\"T_d22a4_row5_col4\" class=\"data row5 col4\" >62.08</td>\n",
       "    </tr>\n",
       "    <tr>\n",
       "      <th id=\"T_d22a4_level0_row6\" class=\"row_heading level0 row6\" >6</th>\n",
       "      <td id=\"T_d22a4_row6_col0\" class=\"data row6 col0\" >mean_dose</td>\n",
       "      <td id=\"T_d22a4_row6_col1\" class=\"data row6 col1\" >HEART</td>\n",
       "      <td id=\"T_d22a4_row6_col2\" class=\"data row6 col2\" >27.0Gy</td>\n",
       "      <td id=\"T_d22a4_row6_col3\" class=\"data row6 col3\" >20.0Gy</td>\n",
       "      <td id=\"T_d22a4_row6_col4\" class=\"data row6 col4\" >10.32</td>\n",
       "    </tr>\n",
       "    <tr>\n",
       "      <th id=\"T_d22a4_level0_row7\" class=\"row_heading level0 row7\" >7</th>\n",
       "      <td id=\"T_d22a4_row7_col0\" class=\"data row7 col0\" >V(30.0Gy)</td>\n",
       "      <td id=\"T_d22a4_row7_col1\" class=\"data row7 col1\" >HEART</td>\n",
       "      <td id=\"T_d22a4_row7_col2\" class=\"data row7 col2\" >50.0%</td>\n",
       "      <td id=\"T_d22a4_row7_col3\" class=\"data row7 col3\" ></td>\n",
       "      <td id=\"T_d22a4_row7_col4\" class=\"data row7 col4\" >19.83</td>\n",
       "    </tr>\n",
       "    <tr>\n",
       "      <th id=\"T_d22a4_level0_row8\" class=\"row_heading level0 row8\" >8</th>\n",
       "      <td id=\"T_d22a4_row8_col0\" class=\"data row8 col0\" >V(30.0Gy)</td>\n",
       "      <td id=\"T_d22a4_row8_col1\" class=\"data row8 col1\" >HEART</td>\n",
       "      <td id=\"T_d22a4_row8_col2\" class=\"data row8 col2\" ></td>\n",
       "      <td id=\"T_d22a4_row8_col3\" class=\"data row8 col3\" >48.0%</td>\n",
       "      <td id=\"T_d22a4_row8_col4\" class=\"data row8 col4\" >19.83</td>\n",
       "    </tr>\n",
       "    <tr>\n",
       "      <th id=\"T_d22a4_level0_row9\" class=\"row_heading level0 row9\" >9</th>\n",
       "      <td id=\"T_d22a4_row9_col0\" class=\"data row9 col0\" >max_dose</td>\n",
       "      <td id=\"T_d22a4_row9_col1\" class=\"data row9 col1\" >LUNG_L</td>\n",
       "      <td id=\"T_d22a4_row9_col2\" class=\"data row9 col2\" >66.0Gy</td>\n",
       "      <td id=\"T_d22a4_row9_col3\" class=\"data row9 col3\" ></td>\n",
       "      <td id=\"T_d22a4_row9_col4\" class=\"data row9 col4\" >27.99</td>\n",
       "    </tr>\n",
       "    <tr>\n",
       "      <th id=\"T_d22a4_level0_row10\" class=\"row_heading level0 row10\" >10</th>\n",
       "      <td id=\"T_d22a4_row10_col0\" class=\"data row10 col0\" >max_dose</td>\n",
       "      <td id=\"T_d22a4_row10_col1\" class=\"data row10 col1\" >LUNG_R</td>\n",
       "      <td id=\"T_d22a4_row10_col2\" class=\"data row10 col2\" >66.0Gy</td>\n",
       "      <td id=\"T_d22a4_row10_col3\" class=\"data row10 col3\" ></td>\n",
       "      <td id=\"T_d22a4_row10_col4\" class=\"data row10 col4\" >66.00</td>\n",
       "    </tr>\n",
       "    <tr>\n",
       "      <th id=\"T_d22a4_level0_row11\" class=\"row_heading level0 row11\" >11</th>\n",
       "      <td id=\"T_d22a4_row11_col0\" class=\"data row11 col0\" >max_dose</td>\n",
       "      <td id=\"T_d22a4_row11_col1\" class=\"data row11 col1\" >CORD</td>\n",
       "      <td id=\"T_d22a4_row11_col2\" class=\"data row11 col2\" >50.0Gy</td>\n",
       "      <td id=\"T_d22a4_row11_col3\" class=\"data row11 col3\" >48.0Gy</td>\n",
       "      <td id=\"T_d22a4_row11_col4\" class=\"data row11 col4\" >1.45</td>\n",
       "    </tr>\n",
       "    <tr>\n",
       "      <th id=\"T_d22a4_level0_row12\" class=\"row_heading level0 row12\" >12</th>\n",
       "      <td id=\"T_d22a4_row12_col0\" class=\"data row12 col0\" >max_dose</td>\n",
       "      <td id=\"T_d22a4_row12_col1\" class=\"data row12 col1\" >SKIN</td>\n",
       "      <td id=\"T_d22a4_row12_col2\" class=\"data row12 col2\" >60.0Gy</td>\n",
       "      <td id=\"T_d22a4_row12_col3\" class=\"data row12 col3\" ></td>\n",
       "      <td id=\"T_d22a4_row12_col4\" class=\"data row12 col4\" >41.94</td>\n",
       "    </tr>\n",
       "    <tr>\n",
       "      <th id=\"T_d22a4_level0_row13\" class=\"row_heading level0 row13\" >13</th>\n",
       "      <td id=\"T_d22a4_row13_col0\" class=\"data row13 col0\" >max_dose</td>\n",
       "      <td id=\"T_d22a4_row13_col1\" class=\"data row13 col1\" >LUNGS_NOT_GTV</td>\n",
       "      <td id=\"T_d22a4_row13_col2\" class=\"data row13 col2\" >66.0Gy</td>\n",
       "      <td id=\"T_d22a4_row13_col3\" class=\"data row13 col3\" ></td>\n",
       "      <td id=\"T_d22a4_row13_col4\" class=\"data row13 col4\" >66.00</td>\n",
       "    </tr>\n",
       "    <tr>\n",
       "      <th id=\"T_d22a4_level0_row14\" class=\"row_heading level0 row14\" >14</th>\n",
       "      <td id=\"T_d22a4_row14_col0\" class=\"data row14 col0\" >mean_dose</td>\n",
       "      <td id=\"T_d22a4_row14_col1\" class=\"data row14 col1\" >LUNGS_NOT_GTV</td>\n",
       "      <td id=\"T_d22a4_row14_col2\" class=\"data row14 col2\" >21.0Gy</td>\n",
       "      <td id=\"T_d22a4_row14_col3\" class=\"data row14 col3\" >20.0Gy</td>\n",
       "      <td id=\"T_d22a4_row14_col4\" class=\"data row14 col4\" >2.06</td>\n",
       "    </tr>\n",
       "    <tr>\n",
       "      <th id=\"T_d22a4_level0_row15\" class=\"row_heading level0 row15\" >15</th>\n",
       "      <td id=\"T_d22a4_row15_col0\" class=\"data row15 col0\" >V(20.0Gy)</td>\n",
       "      <td id=\"T_d22a4_row15_col1\" class=\"data row15 col1\" >LUNGS_NOT_GTV</td>\n",
       "      <td id=\"T_d22a4_row15_col2\" class=\"data row15 col2\" >37.0%</td>\n",
       "      <td id=\"T_d22a4_row15_col3\" class=\"data row15 col3\" ></td>\n",
       "      <td id=\"T_d22a4_row15_col4\" class=\"data row15 col4\" >4.41</td>\n",
       "    </tr>\n",
       "  </tbody>\n",
       "</table>\n"
      ],
      "text/plain": [
       "<pandas.io.formats.style.Styler at 0x1ca7b159760>"
      ]
     },
     "metadata": {},
     "output_type": "display_data"
    }
   ],
   "source": [
    "# visualize plan metrics and compare them against the clinical criteria\n",
    "pp.Evaluation.display_clinical_criteria(my_plan, sol=sol, clinical_criteria=clinical_criteria)\n",
    "# The Evaluation class also has methods to extract different DVH metrics (e.g., get_dose(sol, struct, volume_per), get_volume(sol: struct dose_value_gy)))\n"
   ]
  },
  {
   "cell_type": "markdown",
   "id": "e1799b49",
   "metadata": {},
   "source": [
    "### 5) Saving and loading the plan for future use (utils)\n"
   ]
  },
  {
   "cell_type": "code",
   "execution_count": 13,
   "id": "22785dc6",
   "metadata": {},
   "outputs": [],
   "source": [
    "# Comment/Uncomment these lines to save and load the pickle file for plans and optimal solution from the directory\n",
    "pp.save_plan(my_plan, plan_name='my_plan_proton.pkl', path=os.path.join(r'C:\\temp', data.patient_id))\n",
    "pp.save_optimal_sol(sol, sol_name='sol_proton.pkl', path=os.path.join(r'C:\\temp', data.patient_id))\n",
    "# my_plan = pp.load_plan(plan_name='my_plan_phantom.pkl', path=os.path.join(r'C:\\temp', data.patient_id))\n",
    "# sol = pp.load_optimal_sol(sol_name='sol_phantom.pkl', path=os.path.join(r'C:\\temp', data.patient_id))"
   ]
  }
 ],
 "metadata": {
  "kernelspec": {
   "display_name": "Python 3 (ipykernel)",
   "language": "python",
   "name": "python3"
  },
  "language_info": {
   "codemirror_mode": {
    "name": "ipython",
    "version": 3
   },
   "file_extension": ".py",
   "mimetype": "text/x-python",
   "name": "python",
   "nbconvert_exporter": "python",
   "pygments_lexer": "ipython3",
   "version": "3.9.7"
  },
  "vscode": {
   "interpreter": {
    "hash": "d49c3f6d6dd49f9272b571d9fad348ab55b8c6c3f691520d74ed0af1f69c3dd8"
   }
  }
 },
 "nbformat": 4,
 "nbformat_minor": 5
}
